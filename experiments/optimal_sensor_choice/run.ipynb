{
 "cells": [
  {
   "cell_type": "code",
   "execution_count": 1,
   "metadata": {},
   "outputs": [],
   "source": [
    "%load_ext autoreload\n",
    "%autoreload 2"
   ]
  },
  {
   "cell_type": "code",
   "execution_count": 2,
   "metadata": {},
   "outputs": [],
   "source": [
    "from pathlib import Path\n",
    "import matplotlib.pyplot as plt\n",
    "import xarray as xr\n",
    "import numpy as np"
   ]
  },
  {
   "cell_type": "code",
   "execution_count": 11,
   "metadata": {},
   "outputs": [],
   "source": [
    "from experiments import OptimalSensorChoice\n",
    "from experiments import utilities as utils\n",
    "from bayesinverse import Regression\n",
    "from robiplotipy import PlotEnv\n",
    "from robiplotipy.experiments.optimal_sensor_choice import (\n",
    "    plot_pcm_rmse,\n",
    "    plot_pcm_information,\n",
    ")\n"
   ]
  },
  {
   "cell_type": "code",
   "execution_count": 4,
   "metadata": {},
   "outputs": [
    {
     "name": "stdout",
     "output_type": "stream",
     "text": [
      "sensors 0.003113463521003723\n",
      "emissions 1.5957173556089401\n",
      "transport 4.198032721877098\n"
     ]
    }
   ],
   "source": [
    "config_path = config_path = Path(\n",
    "    \"/home/rmaiwald/code/Experiments/experiments/optimal_sensor_choice/config.yaml\"\n",
    ")\n",
    "\n",
    "exp = OptimalSensorChoice(config_path)\n"
   ]
  },
  {
   "cell_type": "code",
   "execution_count": 15,
   "metadata": {},
   "outputs": [
    {
     "name": "stdout",
     "output_type": "stream",
     "text": [
      "loop start 12.547204047441483\n",
      "loop end 12.587120234966278\n"
     ]
    }
   ],
   "source": [
    "exp.K = exp.transport.get_transport(\n",
    "    exp.sensors.n_sensors, exp.sensors.get_index(), exp.emissions, n_processes=30,\n",
    ")\n"
   ]
  },
  {
   "cell_type": "code",
   "execution_count": 16,
   "metadata": {},
   "outputs": [],
   "source": [
    "true_emissions = exp.emissions.get_absolute()[exp.emissions.mask]\n"
   ]
  },
  {
   "cell_type": "code",
   "execution_count": 17,
   "metadata": {},
   "outputs": [
    {
     "name": "stdout",
     "output_type": "stream",
     "text": [
      "5\n",
      "10\n",
      "15\n",
      "20\n",
      "25\n",
      "30\n"
     ]
    }
   ],
   "source": [
    "n_mc = 100\n",
    "n_time = 24\n",
    "\n",
    "n_sensors_list = [5, 10, 15, 20, 25, 30]\n",
    "std_list = [0.1, 0.5, 1.0, 2.0, 3.0, 4.0, 5.0, 10.0]\n",
    "rmse_list = []\n",
    "information_list = []\n",
    "for n_sensors_sample in n_sensors_list:\n",
    "    print(n_sensors_sample)\n",
    "    for std in std_list:\n",
    "        for i in range(n_mc):\n",
    "            time_ids = exp.transport.get_time_ids(time=n_time)\n",
    "            sensor_ids = exp.sensors.get_sample_ids(n_sensors_sample)\n",
    "            exp.sensors.set_std(std)\n",
    "            reg = Regression(\n",
    "                y=utils.stack_xr(\n",
    "                    exp.K.isel(time_measurement=time_ids, sensor=sensor_ids)\n",
    "                    @ exp.emissions.truth\n",
    "                    + exp.sensors.get_noise(n_sensors_sample).isel(\n",
    "                        time_measurement=time_ids\n",
    "                    )\n",
    "                ).values,\n",
    "                K=utils.stack_xr(\n",
    "                    exp.K.isel(time_measurement=time_ids, sensor=sensor_ids)\n",
    "                ).values,\n",
    "                x_prior=utils.stack_xr(exp.emissions.prior).values,\n",
    "                x_covariance=utils.stack_xr(exp.emissions.prior_covariance).values,\n",
    "                y_covariance=utils.stack_xr(\n",
    "                    exp.sensors.get_covariance().isel(\n",
    "                        time_measurement=time_ids, sensor=sensor_ids\n",
    "                    )\n",
    "                ).values,\n",
    "            )\n",
    "            information_list.append(reg.get_information_content())\n",
    "            x_est, _, _, _ = reg.fit()\n",
    "            x_posterior = exp.emissions.to_xr(x_est)\n",
    "            x_posterior = utils.unstack_xr(x_posterior) * true_emissions\n",
    "            # error = exp.emissions.truth_absolute * (exp.emissions.truth - x_posterior)\n",
    "            # rmse = np.sqrt(np.mean(error**2))\n",
    "            rmse = np.sqrt(\n",
    "                np.mean(\n",
    "                    (\n",
    "                        exp.emissions.truth_absolute.sum(dim=\"source_group\")\n",
    "                        - x_posterior.sum(dim=\"source_group\")\n",
    "                    )\n",
    "                    ** 2\n",
    "                )\n",
    "            )\n",
    "            rmse_list.append(rmse)\n",
    "\n",
    "std_list.reverse()\n",
    "n_sensors_list.reverse()\n"
   ]
  },
  {
   "cell_type": "code",
   "execution_count": 18,
   "metadata": {},
   "outputs": [
    {
     "data": {
      "text/plain": [
       "3.466880132073212"
      ]
     },
     "execution_count": 18,
     "metadata": {},
     "output_type": "execute_result"
    }
   ],
   "source": [
    "rmse_array = np.array(rmse_list).reshape(len(n_sensors_list), len(std_list), n_mc)\n",
    "rmse_array = np.flip(rmse_array.mean(axis=2))\n",
    "rmse_array = rmse_array / np.sum(exp.emissions.truth_absolute).values * 100\n",
    "rmse_array.min()"
   ]
  },
  {
   "cell_type": "code",
   "execution_count": 19,
   "metadata": {},
   "outputs": [],
   "source": [
    "information = np.array(information_list).reshape(len(n_sensors_list), len(std_list), n_mc)\n",
    "information = np.flip(information.mean(axis=2))\n"
   ]
  },
  {
   "cell_type": "markdown",
   "metadata": {},
   "source": [
    "Saving"
   ]
  },
  {
   "cell_type": "code",
   "execution_count": 21,
   "metadata": {},
   "outputs": [],
   "source": [
    "exp.data[\"std_list\"] = std_list\n",
    "exp.data[\"n_sensors_list\"] = n_sensors_list\n",
    "exp.data[\"rmse_list\"] = rmse_list\n",
    "exp.data[\"rmse_array\"] = rmse_array\n",
    "exp.data[\"information\"] = information\n",
    "exp.pickle_data()"
   ]
  }
 ],
 "metadata": {
  "kernelspec": {
   "display_name": "Python 3.9.0 ('rmaiwald_dev')",
   "language": "python",
   "name": "python3"
  },
  "language_info": {
   "codemirror_mode": {
    "name": "ipython",
    "version": 3
   },
   "file_extension": ".py",
   "mimetype": "text/x-python",
   "name": "python",
   "nbconvert_exporter": "python",
   "pygments_lexer": "ipython3",
   "version": "3.9.0 (default, Nov 15 2020, 14:28:56) \n[GCC 7.3.0]"
  },
  "orig_nbformat": 4,
  "vscode": {
   "interpreter": {
    "hash": "d8a69baeea07c5d4ec62a6eca2f4a95f60a9468c8731d6a0b7effa86769427ea"
   }
  }
 },
 "nbformat": 4,
 "nbformat_minor": 2
}
