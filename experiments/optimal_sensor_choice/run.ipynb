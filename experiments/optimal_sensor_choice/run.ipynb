{
 "cells": [
  {
   "cell_type": "code",
   "execution_count": 1,
   "metadata": {},
   "outputs": [],
   "source": [
    "%load_ext autoreload\n",
    "%autoreload 2"
   ]
  },
  {
   "cell_type": "code",
   "execution_count": 2,
   "metadata": {},
   "outputs": [],
   "source": [
    "from pathlib import Path\n",
    "import matplotlib.pyplot as plt\n",
    "import xarray as xr\n",
    "import numpy as np"
   ]
  },
  {
   "cell_type": "code",
   "execution_count": 3,
   "metadata": {},
   "outputs": [
    {
     "name": "stderr",
     "output_type": "stream",
     "text": [
      "/home/atmo/bin/anaconda3/envs/rmaiwald_dev/lib/python3.9/site-packages/pyproj/__init__.py:89: UserWarning: pyproj unable to set database path.\n",
      "  _pyproj_global_context_initialize()\n"
     ]
    }
   ],
   "source": [
    "from experiments import OptimalSensorChoice\n",
    "from experiments import utilities as utils\n",
    "from bayesinverse import Regression\n",
    "from robiplotipy import PlotEnv\n",
    "from robiplotipy.experiments.optimal_sensor_choice import (\n",
    "    plot_pcm_rmse,\n",
    "    plot_pcm_information,\n",
    ")\n"
   ]
  },
  {
   "cell_type": "code",
   "execution_count": 4,
   "metadata": {},
   "outputs": [
    {
     "name": "stdout",
     "output_type": "stream",
     "text": [
      "sensors 0.01875314861536026\n",
      "emissions 1.4219964668154716\n",
      "transport 89.37360787950456\n"
     ]
    }
   ],
   "source": [
    "config_path = config_path = Path(\n",
    "    \"/home/rmaiwald/code/Experiments/experiments/optimal_sensor_choice/config.yaml\"\n",
    ")\n",
    "\n",
    "exp = OptimalSensorChoice(config_path)\n"
   ]
  },
  {
   "cell_type": "code",
   "execution_count": 5,
   "metadata": {},
   "outputs": [
    {
     "name": "stdout",
     "output_type": "stream",
     "text": [
      "loop start 32.61333388835192\n",
      "loop end 32.71683102659881\n"
     ]
    }
   ],
   "source": [
    "exp.K = exp.transport.get_transport(\n",
    "    exp.sensors.n_sensors, exp.sensors.get_index(), exp.emissions, n_processes=30,\n",
    ")\n"
   ]
  },
  {
   "cell_type": "code",
   "execution_count": 6,
   "metadata": {},
   "outputs": [],
   "source": [
    "true_emissions = exp.emissions.get_absolute()[exp.emissions.mask]\n"
   ]
  },
  {
   "cell_type": "code",
   "execution_count": 7,
   "metadata": {},
   "outputs": [],
   "source": [
    "n_mc = 100\n",
    "n_time = 24\n",
    "\n",
    "n_sensors_list = [5, 10, 15, 20, 25, 30]\n",
    "std_list = [0.1, 0.5, 1.0, 2.0, 3.0, 4.0, 5.0, 10.0]\n",
    "\n",
    "data_xr = xr.Dataset(\n",
    "    coords={\n",
    "        \"n_sensors\": n_sensors_list,\n",
    "        \"std\": std_list,\n",
    "        \"mc_id\": list(range(n_mc)),\n",
    "    }\n",
    ")\n",
    "\n",
    "data_xr[\"rmse\"] = (\n",
    "    (\"n_sensors\", \"std\", \"mc_id\"),\n",
    "    np.zeros((len(n_sensors_list), len(std_list), n_mc)),\n",
    ")\n",
    "data_xr[\"information\"] = (\n",
    "    (\"n_sensors\", \"std\", \"mc_id\"),\n",
    "    np.zeros((len(n_sensors_list), len(std_list), n_mc)),\n",
    ")\n",
    "data_xr[\"relative_improvement\"] = (\n",
    "    (\"n_sensors\", \"std\", \"mc_id\"),\n",
    "    np.zeros((len(n_sensors_list), len(std_list), n_mc)),\n",
    ")\n",
    "data_xr[\"error_reduction\"] = (\n",
    "    (\"n_sensors\", \"std\", \"mc_id\"),\n",
    "    np.zeros((len(n_sensors_list), len(std_list), n_mc)),\n",
    ")"
   ]
  },
  {
   "cell_type": "code",
   "execution_count": 8,
   "metadata": {},
   "outputs": [],
   "source": [
    "# Create a fixed list of time ids for each Monte-Carlo experiment\n",
    "time_ids_list = [exp.transport.get_time_ids(time=n_time) for i in range(n_mc)]"
   ]
  },
  {
   "cell_type": "code",
   "execution_count": 9,
   "metadata": {},
   "outputs": [
    {
     "name": "stdout",
     "output_type": "stream",
     "text": [
      "5\n",
      "10\n",
      "15\n",
      "20\n",
      "25\n",
      "30\n"
     ]
    }
   ],
   "source": [
    "for n_sensors_sample in n_sensors_list:\n",
    "    print(n_sensors_sample)\n",
    "    for std in std_list:\n",
    "        for i in range(n_mc):\n",
    "            time_ids = time_ids_list[i]\n",
    "            sensor_ids = exp.sensors.get_sample_ids(n_sensors_sample)\n",
    "            exp.sensors.set_std(std)\n",
    "            reg = Regression(\n",
    "                y=utils.stack_xr(\n",
    "                    exp.K.isel(time_measurement=time_ids, sensor=sensor_ids)\n",
    "                    @ exp.emissions.truth\n",
    "                    + exp.sensors.get_noise(n_sensors_sample).isel(\n",
    "                        time_measurement=time_ids\n",
    "                    )\n",
    "                ).values,\n",
    "                K=utils.stack_xr(\n",
    "                    exp.K.isel(time_measurement=time_ids, sensor=sensor_ids)\n",
    "                ).values,\n",
    "                x_prior=utils.stack_xr(exp.emissions.prior).values,\n",
    "                x_covariance=utils.stack_xr(exp.emissions.prior_covariance).values,\n",
    "                y_covariance=utils.stack_xr(\n",
    "                    exp.sensors.get_covariance().isel(\n",
    "                        time_measurement=time_ids, sensor=sensor_ids\n",
    "                    )\n",
    "                ).values,\n",
    "            )\n",
    "            data_xr[\"information\"].loc[\n",
    "                dict(n_sensors=n_sensors_sample, std=std, mc_id=i)\n",
    "            ] = reg.get_information_content()\n",
    "            data_xr[\"error_reduction\"].loc[\n",
    "                dict(n_sensors=n_sensors_sample, std=std, mc_id=i)\n",
    "            ] = reg.get_error_reduction().mean()\n",
    "            x_est, _, _, _ = reg.fit()\n",
    "            x_posterior = exp.emissions.to_xr(x_est)\n",
    "            x_posterior = utils.unstack_xr(x_posterior) * true_emissions\n",
    "            error = exp.emissions.truth_absolute - x_posterior\n",
    "            rmse = np.sqrt(np.mean(error**2))\n",
    "            # rmse = np.sqrt(\n",
    "            #     np.mean(\n",
    "            #         (\n",
    "            #             exp.emissions.truth_absolute.sum(dim=\"source_group\")\n",
    "            #             - x_posterior.sum(dim=\"source_group\")\n",
    "            #         )\n",
    "            #         ** 2\n",
    "            #     )\n",
    "            # )\n",
    "            data_xr[\"rmse\"].loc[\n",
    "                dict(n_sensors=n_sensors_sample, std=std, mc_id=i)\n",
    "            ] = rmse\n",
    "            data_xr[\"relative_improvement\"].loc[\n",
    "                dict(n_sensors=n_sensors_sample, std=std, mc_id=i)\n",
    "            ] = reg.get_relative_gain(\n",
    "                exp.emissions.truth_absolute.sel(time_state=0),\n",
    "                x_posterior.sel(time_state=0),\n",
    "            ) * 100\n"
   ]
  },
  {
   "cell_type": "code",
   "execution_count": 10,
   "metadata": {},
   "outputs": [
    {
     "data": {
      "text/plain": [
       "[<matplotlib.lines.Line2D at 0x7f4ce8908f70>]"
      ]
     },
     "execution_count": 10,
     "metadata": {},
     "output_type": "execute_result"
    },
    {
     "data": {
      "image/png": "[encoded data removed]",
      "text/plain": [
       "<Figure size 640x480 with 1 Axes>"
      ]
     },
     "metadata": {},
     "output_type": "display_data"
    }
   ],
   "source": [
    "x_posterior.plot()"
   ]
  },
  {
   "cell_type": "markdown",
   "metadata": {},
   "source": [
    "Saving"
   ]
  },
  {
   "cell_type": "code",
   "execution_count": 17,
   "metadata": {},
   "outputs": [],
   "source": [
    "exp.data[\"data\"] = data_xr\n",
    "exp.pickle_data()"
   ]
  },
  {
   "cell_type": "code",
   "execution_count": null,
   "metadata": {},
   "outputs": [],
   "source": []
  }
 ],
 "metadata": {
  "kernelspec": {
   "display_name": "Python 3.9.0 ('rmaiwald_dev')",
   "language": "python",
   "name": "python3"
  },
  "language_info": {
   "codemirror_mode": {
    "name": "ipython",
    "version": 3
   },
   "file_extension": ".py",
   "mimetype": "text/x-python",
   "name": "python",
   "nbconvert_exporter": "python",
   "pygments_lexer": "ipython3",
   "version": "3.9.16"
  },
  "orig_nbformat": 4,
  "vscode": {
   "interpreter": {
    "hash": "d8a69baeea07c5d4ec62a6eca2f4a95f60a9468c8731d6a0b7effa86769427ea"
   }
  }
 },
 "nbformat": 4,
 "nbformat_minor": 2
}
