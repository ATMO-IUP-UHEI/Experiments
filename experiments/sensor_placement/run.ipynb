{
 "cells": [
  {
   "cell_type": "code",
   "execution_count": 1,
   "metadata": {},
   "outputs": [],
   "source": [
    "%load_ext autoreload\n",
    "%autoreload 2"
   ]
  },
  {
   "cell_type": "code",
   "execution_count": 2,
   "metadata": {},
   "outputs": [],
   "source": [
    "from pathlib import Path\n",
    "import matplotlib.pyplot as plt\n",
    "import xarray as xr\n",
    "import numpy as np\n",
    "import pandas as pd\n",
    "import pickle\n",
    "import seaborn as sns\n",
    "\n",
    "from cartopy.io.img_tiles import OSM\n",
    "import cartopy\n"
   ]
  },
  {
   "cell_type": "code",
   "execution_count": 3,
   "metadata": {},
   "outputs": [],
   "source": [
    "from experiments import SensorPlacement\n",
    "from experiments import utilities as utils\n",
    "from bayesinverse import Regression\n",
    "from emissions import WK84_MASK, data_loader, GRAL, GK_MASK, transform_to_WK84\n",
    "\n",
    "import robiplotipy.experiments.sensor_placement as plt_exp\n",
    "from robiplotipy import PlotEnv\n"
   ]
  },
  {
   "cell_type": "code",
   "execution_count": 4,
   "metadata": {},
   "outputs": [
    {
     "name": "stdout",
     "output_type": "stream",
     "text": [
      "sensors 0.012008190155029297\n",
      "emissions 1.517284244298935\n",
      "transport 5.010899096727371\n"
     ]
    }
   ],
   "source": [
    "config_path = config_path = Path(\n",
    "    \"/home/rmaiwald/code/Experiments/experiments/sensor_placement/config.yaml\"\n",
    ")\n",
    "\n",
    "exp = SensorPlacement(config_path)\n"
   ]
  },
  {
   "cell_type": "code",
   "execution_count": 5,
   "metadata": {},
   "outputs": [
    {
     "data": {
      "text/plain": [
       "[<matplotlib.lines.Line2D at 0x7f71579d0910>]"
      ]
     },
     "execution_count": 5,
     "metadata": {},
     "output_type": "execute_result"
    },
    {
     "data": {
      "image/png": "[encoded data removed]",
      "text/plain": [
       "<Figure size 432x288 with 1 Axes>"
      ]
     },
     "metadata": {
      "needs_background": "light"
     },
     "output_type": "display_data"
    }
   ],
   "source": [
    "tno_cadastre_source_ids = list(range(25, 47))\n",
    "plt.plot(exp.emissions.get_absolute()[tno_cadastre_source_ids])\n"
   ]
  },
  {
   "cell_type": "code",
   "execution_count": 6,
   "metadata": {},
   "outputs": [],
   "source": [
    "meteo_seed = 20\n",
    "n_processes = 40\n",
    "exp.K = exp.transport.get_transport(\n",
    "    exp.sensors.n_sensors,\n",
    "    exp.sensors.get_index(),\n",
    "    exp.emissions,\n",
    "    n_processes=n_processes,\n",
    "    seed=meteo_seed,\n",
    ")\n"
   ]
  },
  {
   "cell_type": "code",
   "execution_count": null,
   "metadata": {},
   "outputs": [],
   "source": [
    "n_mc = 500\n",
    "n_time = 100\n"
   ]
  },
  {
   "cell_type": "code",
   "execution_count": 24,
   "metadata": {},
   "outputs": [
    {
     "name": "stdout",
     "output_type": "stream",
     "text": [
      "9\n",
      "12\n",
      "16\n",
      "20\n",
      "25\n"
     ]
    }
   ],
   "source": [
    "n_sample_list = [9, 12, 16, 20, 25]\n",
    "# n_sample_list = [4, 16, 25]\n",
    "information_dict = {}\n",
    "error_reduction_dict = {}\n",
    "relative_gain_dict = {}\n",
    "dof_dict = {}\n",
    "sensor_ids_dict = {}\n",
    "for n_sample in n_sample_list:\n",
    "    print(n_sample)\n",
    "    information_dict[n_sample] = []\n",
    "    error_reduction_dict[n_sample] = []\n",
    "    relative_gain_dict[n_sample] = []\n",
    "    dof_dict[n_sample] = []\n",
    "    sensor_ids_dict[n_sample] = []\n",
    "    for i in range(n_mc):\n",
    "        sensor_ids = exp.sensors.get_sample_ids(n_sample)\n",
    "        time_ids = exp.transport.get_time_ids(time=n_time)\n",
    "        reg = Regression(\n",
    "            y=utils.stack_xr(\n",
    "                exp.K.isel(sensor=sensor_ids, time_measurement=time_ids)\n",
    "                @ exp.emissions.truth\n",
    "                + exp.sensors.get_noise(n_sample).isel(time_measurement=time_ids)\n",
    "            ).values,\n",
    "            K=utils.stack_xr(\n",
    "                exp.K.isel(sensor=sensor_ids, time_measurement=time_ids)\n",
    "            ).values,\n",
    "            x_prior=utils.stack_xr(exp.emissions.prior).values,\n",
    "            x_covariance=utils.stack_xr(exp.emissions.prior_covariance).values,\n",
    "            y_covariance=utils.stack_xr(\n",
    "                exp.sensors.get_covariance().isel(\n",
    "                    sensor=sensor_ids, time_measurement=time_ids\n",
    "                )\n",
    "            ).values,\n",
    "        )\n",
    "        reg.fit()\n",
    "        information_dict[n_sample].append(reg.get_information_content())\n",
    "        error_reduction_dict[n_sample].append(reg.get_error_reduction())\n",
    "        relative_gain_dict[n_sample].append(\n",
    "            reg.get_relative_gain(utils.stack_xr(exp.emissions.truth).values)\n",
    "        )\n",
    "        dof_dict[n_sample].append(reg.get_dof_signal())\n",
    "        sensor_ids_dict[n_sample].append(sensor_ids)\n"
   ]
  },
  {
   "cell_type": "code",
   "execution_count": 25,
   "metadata": {},
   "outputs": [
    {
     "name": "stdout",
     "output_type": "stream",
     "text": [
      "9\n",
      "loop start 30.6870289593935\n",
      "loop end 30.793868020176888\n",
      "12\n",
      "loop start 27.3549435287714\n",
      "loop end 27.455034613609314\n",
      "16\n",
      "loop start 29.242845445871353\n",
      "loop end 29.352811485528946\n",
      "20\n",
      "loop start 28.835556149482727\n",
      "loop end 28.944049790501595\n",
      "25\n",
      "loop start 28.27510803937912\n",
      "loop end 28.38168865442276\n"
     ]
    }
   ],
   "source": [
    "best_information_dict = {}\n",
    "best_error_reduction_dict = {}\n",
    "best_relative_gain_dict = {}\n",
    "best_dof_dict = {}\n",
    "for n_sample in n_sample_list:\n",
    "    print(n_sample)\n",
    "    best_information_dict[n_sample] = []\n",
    "    best_error_reduction_dict[n_sample] = []\n",
    "    best_relative_gain_dict[n_sample] = []\n",
    "    best_dof_dict[n_sample] = []\n",
    "    exp.sensors.set_n_sensors(n_sample)\n",
    "    exp.K = exp.transport.get_transport(\n",
    "        exp.sensors.n_sensors,\n",
    "        exp.sensors.get_index(),\n",
    "        exp.emissions,\n",
    "        n_processes=n_processes,\n",
    "        seed=meteo_seed,\n",
    "    )\n",
    "\n",
    "    for i in range(n_mc):\n",
    "        time_ids = exp.transport.get_time_ids(time=n_time)\n",
    "        reg = Regression(\n",
    "            y=utils.stack_xr(\n",
    "                exp.K.isel(time_measurement=time_ids) @ exp.emissions.truth\n",
    "                + exp.sensors.get_noise().isel(time_measurement=time_ids)\n",
    "            ).values,\n",
    "            K=utils.stack_xr(exp.K.isel(time_measurement=time_ids)).values,\n",
    "            x_prior=utils.stack_xr(exp.emissions.prior).values,\n",
    "            x_covariance=utils.stack_xr(exp.emissions.prior_covariance).values,\n",
    "            y_covariance=utils.stack_xr(\n",
    "                exp.sensors.get_covariance().isel(time_measurement=time_ids)\n",
    "            ).values,\n",
    "        )\n",
    "        reg.fit()\n",
    "        best_information_dict[n_sample].append(reg.get_information_content())\n",
    "        best_error_reduction_dict[n_sample].append(reg.get_error_reduction())\n",
    "        best_relative_gain_dict[n_sample].append(\n",
    "            reg.get_relative_gain(utils.stack_xr(exp.emissions.truth).values)\n",
    "        )\n",
    "        best_dof_dict[n_sample].append(reg.get_dof_signal())\n"
   ]
  },
  {
   "cell_type": "code",
   "execution_count": 29,
   "metadata": {},
   "outputs": [],
   "source": [
    "# Store/ load data\n",
    "exp.data[\"information_dict\"] = information_dict\n",
    "exp.data[\"error_reduction_dict\"] = error_reduction_dict\n",
    "exp.data[\"relative_gain_dict\"] = relative_gain_dict\n",
    "exp.data[\"dof_dict\"] = dof_dict\n",
    "exp.data[\"best_information_dict\"] = best_information_dict\n",
    "exp.data[\"best_error_reduction_dict\"] = best_error_reduction_dict\n",
    "exp.data[\"best_relative_gain_dict\"] = best_relative_gain_dict\n",
    "exp.data[\"best_dof_dict\"] = best_dof_dict\n",
    "exp.data[\"sensor_ids_dict\"] = sensor_ids_dict\n",
    "exp.pickle_data()\n"
   ]
  }
 ],
 "metadata": {
  "kernelspec": {
   "display_name": "Python 3 (ipykernel)",
   "language": "python",
   "name": "python3"
  },
  "language_info": {
   "codemirror_mode": {
    "name": "ipython",
    "version": 3
   },
   "file_extension": ".py",
   "mimetype": "text/x-python",
   "name": "python",
   "nbconvert_exporter": "python",
   "pygments_lexer": "ipython3",
   "version": "3.9.0"
  },
  "orig_nbformat": 4,
  "vscode": {
   "interpreter": {
    "hash": "d8a69baeea07c5d4ec62a6eca2f4a95f60a9468c8731d6a0b7effa86769427ea"
   }
  }
 },
 "nbformat": 4,
 "nbformat_minor": 2
}
